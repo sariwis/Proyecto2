{
 "cells": [
  {
   "cell_type": "code",
   "execution_count": 9,
   "metadata": {},
   "outputs": [],
   "source": [
    "import pandas as pd\n",
    "import psycopg2\n",
    "import pandas.io.sql as sqlio\n",
    "import plotly.express as px\n",
    "import dash\n",
    "import dash_core_components as dcc\n",
    "import dash_html_components as html\n",
    "psw=''"
   ]
  },
  {
   "cell_type": "code",
   "execution_count": 10,
   "metadata": {},
   "outputs": [
    {
     "name": "stderr",
     "output_type": "stream",
     "text": [
      "C:\\Users\\Sebastian\\AppData\\Local\\Temp\\ipykernel_16808\\224195722.py:21: UserWarning:\n",
      "\n",
      "pandas only supports SQLAlchemy connectable (engine/connection) or database string URI or sqlite3 DBAPI2 connection. Other DBAPI2 objects are not tested. Please consider using SQLAlchemy.\n",
      "\n"
     ]
    },
    {
     "data": {
      "text/html": [
       "\n",
       "        <iframe\n",
       "            width=\"100%\"\n",
       "            height=\"650\"\n",
       "            src=\"http://127.0.0.1:8050/\"\n",
       "            frameborder=\"0\"\n",
       "            allowfullscreen\n",
       "            \n",
       "        ></iframe>\n",
       "        "
      ],
      "text/plain": [
       "<IPython.lib.display.IFrame at 0x1ac6a885ad0>"
      ]
     },
     "metadata": {},
     "output_type": "display_data"
    }
   ],
   "source": [
    "\n",
    "\n",
    "def porcentaje_genero():\n",
    "    # Establecer la conexión a la base de datos\n",
    "    engine = psycopg2.connect(\n",
    "        dbname=\"p2\",\n",
    "        user=\"postgres\",\n",
    "        password=psw,\n",
    "        host=\"proyecto2.c9pexl84mjtw.us-east-1.rds.amazonaws.com\",\n",
    "        port=\"5432\"\n",
    "    )\n",
    "\n",
    "    # Definir la consulta SQL\n",
    "    query = \"\"\"\n",
    "    SELECT g AS genero, \n",
    "           SUM(CASE WHEN target = 1 THEN 1 ELSE 0 END) AS graduados\n",
    "    FROM grado\n",
    "    WHERE g IN (0, 1) -- Filtrar por géneros 0 (Mujer) y 1 (Hombre)\n",
    "    GROUP BY g;\n",
    "    \"\"\"\n",
    "\n",
    "    # Ejecutar la consulta y obtener el resultado como un DataFrame\n",
    "    df = sqlio.read_sql_query(query, engine)\n",
    "\n",
    "    # Reemplazar 0 con \"Mujeres\" y 1 con \"Hombres\" en la columna \"genero\"\n",
    "    df['genero'] = df['genero'].map({0: 'Mujeres', 1: 'Hombres'})\n",
    "\n",
    "    # Calcular el porcentaje de graduados y desertores\n",
    "    df['Porcentaje de Graduados'] = (df['graduados'] / df['graduados'].sum()) * 100\n",
    "    df['Porcentaje de Desertores'] = 100 - df['Porcentaje de Graduados']\n",
    "\n",
    "    # Crear la figura de la gráfica de barras\n",
    "    fig = px.bar(\n",
    "        df, x='genero', y=['Porcentaje de Graduados', 'Porcentaje de Desertores'],\n",
    "        labels={'value': 'Porcentaje', 'genero': 'Género'},\n",
    "        title='Porcentaje de Graduados y Desertores por Género',\n",
    "        color_discrete_map={'Porcentaje de Graduados': 'green', 'Porcentaje de Desertores': 'lightgreen'},\n",
    "    )\n",
    "\n",
    "    # Crear la aplicación Dash\n",
    "    app = dash.Dash(__name__)\n",
    "\n",
    "    app.layout = html.Div([\n",
    "        dcc.Graph(figure=fig)\n",
    "    ])\n",
    "\n",
    "    # Ejecutar la aplicación Dash\n",
    "    if __name__ == '__main__':\n",
    "        app.run_server(debug=True)\n",
    "\n",
    "# Llamar a la función para ejecutar el código\n",
    "porcentaje_genero()\n"
   ]
  },
  {
   "cell_type": "code",
   "execution_count": 7,
   "metadata": {},
   "outputs": [
    {
     "name": "stderr",
     "output_type": "stream",
     "text": [
      "C:\\Users\\Sebastian\\AppData\\Local\\Temp\\ipykernel_16808\\2033440614.py:46: UserWarning:\n",
      "\n",
      "pandas only supports SQLAlchemy connectable (engine/connection) or database string URI or sqlite3 DBAPI2 connection. Other DBAPI2 objects are not tested. Please consider using SQLAlchemy.\n",
      "\n"
     ]
    },
    {
     "data": {
      "text/html": [
       "\n",
       "        <iframe\n",
       "            width=\"100%\"\n",
       "            height=\"650\"\n",
       "            src=\"http://127.0.0.1:8050/\"\n",
       "            frameborder=\"0\"\n",
       "            allowfullscreen\n",
       "            \n",
       "        ></iframe>\n",
       "        "
      ],
      "text/plain": [
       "<IPython.lib.display.IFrame at 0x1ac69799010>"
      ]
     },
     "metadata": {},
     "output_type": "display_data"
    }
   ],
   "source": [
    "def porcentaje_graduados_por_curso():\n",
    "    #CONECTARSE\n",
    "    import psycopg2\n",
    "    import pandas as pd\n",
    "    import sqlite3\n",
    "    engine = psycopg2.connect(\n",
    "        dbname=\"p2\",\n",
    "        user=\"postgres\",\n",
    "        password=psw,\n",
    "        host=\"proyecto2.c9pexl84mjtw.us-east-1.rds.amazonaws.com\",\n",
    "        port=\"5432\"\n",
    "    )\n",
    "    cursor = engine.cursor()\n",
    "\n",
    "    query = \"\"\"\n",
    "    SELECT C AS curso,\n",
    "        SUM(CASE WHEN target = 1 THEN 1 ELSE 0 END) AS graduados\n",
    "    FROM grado\n",
    "    WHERE C BETWEEN 1 AND 17  -- Filtrar por cursos del 1 al 17\n",
    "    GROUP BY C\n",
    "    ORDER BY C;\n",
    "    \"\"\"\n",
    "\n",
    "    # Mapeo de números de curso a nombres\n",
    "    curso_nombre_map = {\n",
    "        1: \"Biofuel Production Technologies\",\n",
    "        2: \"Animation and Multimedia Design\",\n",
    "        3: \"Social Service (evening attendance)\",\n",
    "        4: \"Agronomy\",\n",
    "        5: \"Communication Design\",\n",
    "        6: \"Veterinary Nursing\",\n",
    "        7: \"Informatics Engineering\",\n",
    "        8: \"Equinculture\",\n",
    "        9: \"Management\",\n",
    "        10: \"Social Service\",\n",
    "        11: \"Tourism\",\n",
    "        12: \"Nursing\",\n",
    "        13: \"Oral Hygiene\",\n",
    "        14: \"Advertising and Marketing Management\",\n",
    "        15: \"Journalism and Communication\",\n",
    "        16: \"Basic Education\",\n",
    "        17: \"Management (evening attendance)\"\n",
    "    }\n",
    "\n",
    "    # Ejecutar la consulta SQL y cargar los resultados en un DataFrame\n",
    "    df = pd.read_sql_query(query, engine)\n",
    "\n",
    "    # Mapear los números de curso a nombres\n",
    "    df['curso'] = df['curso'].map(curso_nombre_map)\n",
    "\n",
    "\n",
    "    # Calcular el porcentaje de graduados y no graduados\n",
    "    df['Graduados'] = (df['graduados'] / df['graduados'].sum()) * 100\n",
    "    df['Desertores'] = 100 - df['Graduados']\n",
    "\n",
    "    # Crear la figura de la gráfica de barras horizontales\n",
    "    fig = px.bar(\n",
    "        df, y='curso', x=['Graduados', 'Desertores'],\n",
    "        labels={'value': 'Porcentaje', 'curso': 'Curso'}, title='Porcentaje de Graduados y Desertores por Curso',\n",
    "        color_discrete_map={'Graduados': 'green', 'Desertores': 'lightgreen'},\n",
    "        orientation='h'\n",
    "    )\n",
    "\n",
    "    # Crear la aplicación Dash\n",
    "    app = dash.Dash(__name__)\n",
    "\n",
    "    app.layout = html.Div([\n",
    "        dcc.Graph(figure=fig)\n",
    "    ])\n",
    "\n",
    "    if __name__ == '__main__':\n",
    "        app.run_server(debug=True)\n",
    "\n",
    "# Ejecutar la función\n",
    "porcentaje_graduados_por_curso()"
   ]
  },
  {
   "cell_type": "code",
   "execution_count": 8,
   "metadata": {},
   "outputs": [
    {
     "name": "stderr",
     "output_type": "stream",
     "text": [
      "C:\\Users\\Sebastian\\AppData\\Local\\Temp\\ipykernel_16808\\2509575732.py:21: UserWarning:\n",
      "\n",
      "pandas only supports SQLAlchemy connectable (engine/connection) or database string URI or sqlite3 DBAPI2 connection. Other DBAPI2 objects are not tested. Please consider using SQLAlchemy.\n",
      "\n"
     ]
    },
    {
     "data": {
      "text/html": [
       "\n",
       "        <iframe\n",
       "            width=\"100%\"\n",
       "            height=\"650\"\n",
       "            src=\"http://127.0.0.1:8050/\"\n",
       "            frameborder=\"0\"\n",
       "            allowfullscreen\n",
       "            \n",
       "        ></iframe>\n",
       "        "
      ],
      "text/plain": [
       "<IPython.lib.display.IFrame at 0x1ac6a964690>"
      ]
     },
     "metadata": {},
     "output_type": "display_data"
    }
   ],
   "source": [
    "\n",
    "def porc_edades():\n",
    "    #CONECTARSE\n",
    "    import psycopg2\n",
    "    import pandas as pd\n",
    "    import sqlite3\n",
    "    engine = psycopg2.connect(\n",
    "        dbname=\"p2\",\n",
    "        user=\"postgres\",\n",
    "        password=psw,\n",
    "        host=\"proyecto2.c9pexl84mjtw.us-east-1.rds.amazonaws.com\",\n",
    "        port=\"5432\"\n",
    "    )\n",
    "    cursor = engine.cursor()\n",
    "    query = \"\"\"\n",
    "    SELECT AE AS age,\n",
    "       SUM(CASE WHEN target = 1 THEN 1 ELSE 0 END) AS graduados,\n",
    "       SUM(CASE WHEN target = 0 THEN 1 ELSE 0 END) AS no_graduados\n",
    "    FROM grado\n",
    "    GROUP BY AE;\n",
    "    \"\"\"\n",
    "    df = pd.read_sql_query(query, engine)\n",
    "\n",
    "    # Calcular los porcentajes\n",
    "    df['Graduados'] = (df['graduados'] / (df['graduados'] + df['no_graduados'])) * 100\n",
    "    df['Desertores'] = (df['no_graduados'] / (df['graduados'] + df['no_graduados'])) * 100\n",
    "\n",
    "    # Mapear los valores de age a etiquetas más descriptivas\n",
    "    df['age'] = df['age'].map({1: 'Jóvenes', 2: 'Adultos', 3: 'Mayores'})\n",
    "\n",
    "    # Crear una nueva columna con el rango de edad\n",
    "    df['Rango de Edad'] = df['age'].map({'Jóvenes': '16-30 años', 'Adultos': '31-45 años', 'Mayores': '46-63 años'})\n",
    "\n",
    "    # Crear la figura de la gráfica de barras con colores verdes y leyenda personalizada\n",
    "    fig = px.bar(\n",
    "        df, x='Rango de Edad', y=['Graduados', 'Desertores'],\n",
    "        labels={'value': 'Porcentaje'}, title='Porcentaje de Graduados y Desertores por Rango de Edad',\n",
    "        color_discrete_map={'Graduados': 'green', 'Desertores': 'lightgreen'},\n",
    "    )\n",
    "\n",
    "    # Crear la aplicación Dash\n",
    "    app = dash.Dash(__name__)\n",
    "\n",
    "    app.layout = html.Div([\n",
    "        dcc.Graph(figure=fig)\n",
    "    ])\n",
    "\n",
    "    if __name__ == '__main__':\n",
    "        app.run_server(debug=True)\n",
    "\n",
    "# Ejecutar la función\n",
    "porc_edades()\n",
    "\n",
    "\n"
   ]
  }
 ],
 "metadata": {
  "kernelspec": {
   "display_name": "Python 3",
   "language": "python",
   "name": "python3"
  },
  "language_info": {
   "codemirror_mode": {
    "name": "ipython",
    "version": 3
   },
   "file_extension": ".py",
   "mimetype": "text/x-python",
   "name": "python",
   "nbconvert_exporter": "python",
   "pygments_lexer": "ipython3",
   "version": "3.11.2"
  }
 },
 "nbformat": 4,
 "nbformat_minor": 2
}
